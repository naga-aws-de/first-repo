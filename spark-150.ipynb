{
 "cells": [
  {
   "cell_type": "code",
   "execution_count": 1,
   "id": "3f89e029",
   "metadata": {},
   "outputs": [],
   "source": [
    "from pyspark.sql import SparkSession\n",
    "spark=SparkSession.builder.master('local').appName('zero_analyst').getOrCreate()\n",
    "spark\n",
    "\n",
    "# MySQL connection properties\n",
    "mysql_host = \"localhost\"\n",
    "mysql_port = 3306\n",
    "mysql_database = \"zero_analyst\"\n",
    "mysql_username = \"root\"\n",
    "mysql_password = \"mypassword\"\n",
    "table_name='retail_sales'\n",
    "\n",
    "# JDBC URL\n",
    "jdbc_url = f\"jdbc:mysql://{mysql_host}:{mysql_port}/{mysql_database}\"\n",
    "connection_properties = {\n",
    "    \"user\": mysql_username,\n",
    "    \"password\": mysql_password,\n",
    "    \"driver\": \"com.mysql.cj.jdbc.Driver\"\n",
    "}\n",
    "\n"
   ]
  },
  {
   "cell_type": "code",
   "execution_count": 2,
   "id": "cc3b77e9",
   "metadata": {},
   "outputs": [
    {
     "name": "stdout",
     "output_type": "stream",
     "text": [
      "+-----------+---------------+-----------+--------+\n",
      "|employee_id|           name| department|  salary|\n",
      "+-----------+---------------+-----------+--------+\n",
      "|          1|       John Doe|Engineering|63000.00|\n",
      "|          2|     Jane Smith|Engineering|55000.00|\n",
      "|          3|Michael Johnson|Engineering|64000.00|\n",
      "|          4|    Emily Davis|  Marketing|58000.00|\n",
      "|          5|    Chris Brown|  Marketing|56000.00|\n",
      "|          6|    Emma Wilson|  Marketing|59000.00|\n",
      "|          7|       Alex Lee|      Sales|58000.00|\n",
      "|          8|    Sarah Adams|      Sales|58000.00|\n",
      "|          9|     Ryan Clark|      Sales|61000.00|\n",
      "|         11|           zara|         it|63000.00|\n",
      "+-----------+---------------+-----------+--------+\n",
      "\n"
     ]
    }
   ],
   "source": [
    "# 01 Write the SQL query to find the second highest salary   SELECT * FROM employees01 \n",
    "employees01 = spark.read.format(\"jdbc\").option(\"url\", jdbc_url).option(\"driver\", \"com.mysql.cj.jdbc.Driver\") \\\n",
    "    .option(\"dbtable\", 'employees01').option(\"user\", mysql_username).option(\"password\", mysql_password).load()\n",
    "\n",
    "employees01.show()"
   ]
  }
 ],
 "metadata": {
  "kernelspec": {
   "display_name": "Python 3",
   "language": "python",
   "name": "python3"
  },
  "language_info": {
   "codemirror_mode": {
    "name": "ipython",
    "version": 3
   },
   "file_extension": ".py",
   "mimetype": "text/x-python",
   "name": "python",
   "nbconvert_exporter": "python",
   "pygments_lexer": "ipython3",
   "version": "3.10.0"
  }
 },
 "nbformat": 4,
 "nbformat_minor": 5
}
